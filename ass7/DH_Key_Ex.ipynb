{
 "cells": [
  {
   "cell_type": "code",
   "execution_count": 9,
   "metadata": {
    "collapsed": true
   },
   "outputs": [],
   "source": [
    "import numpy as np"
   ]
  },
  {
   "cell_type": "code",
   "execution_count": 5,
   "metadata": {
    "collapsed": false
   },
   "outputs": [
    {
     "name": "stdout",
     "output_type": "stream",
     "text": [
      "(8, 19)\n",
      "(2, 2)\n"
     ]
    }
   ],
   "source": [
    "#public keys\n",
    "p = 23\n",
    "g = 5\n",
    "\n",
    "#private keys\n",
    "a = 6\n",
    "b = 15\n",
    "\n",
    "def encrypt(x):\n",
    "    return g**x % p\n",
    "\n",
    "def decrypt(x, X):\n",
    "    return X**x % p\n",
    "\n",
    "#create encrypted messages\n",
    "A = encrypt(a)\n",
    "B = encrypt(b)\n",
    "\n",
    "print(A,B)\n",
    "\n",
    "#decrypt the encypted messages\n",
    "s_A = decrypt(a, B)\n",
    "s_B = decrypt(b, A)\n",
    "\n",
    "print(s_A,s_B)"
   ]
  },
  {
   "cell_type": "code",
   "execution_count": 8,
   "metadata": {
    "collapsed": false
   },
   "outputs": [
    {
     "name": "stdout",
     "output_type": "stream",
     "text": [
      "(5, 2)\n"
     ]
    }
   ],
   "source": [
    "#A collision attack matches the secret code of a\n",
    "#decietful transmission to that of one which would\n",
    "#be accepted by one of the parties. The secret code\n",
    "#can be obtained if assigned to one transmission,\n",
    "#then a decietful file which returns the same secret\n",
    "#code can be passed on as if it were the original.\n",
    "s_f = 0\n",
    "f = 0\n",
    "while(s_f!=s_A):\n",
    "    s_f = decrypt(f, A)\n",
    "    f += 1\n",
    "\n",
    "print (f,s_f)"
   ]
  },
  {
   "cell_type": "code",
   "execution_count": null,
   "metadata": {
    "collapsed": true
   },
   "outputs": [],
   "source": []
  }
 ],
 "metadata": {
  "kernelspec": {
   "display_name": "Python 2",
   "language": "python",
   "name": "python2"
  },
  "language_info": {
   "codemirror_mode": {
    "name": "ipython",
    "version": 2
   },
   "file_extension": ".py",
   "mimetype": "text/x-python",
   "name": "python",
   "nbconvert_exporter": "python",
   "pygments_lexer": "ipython2",
   "version": "2.7.11"
  }
 },
 "nbformat": 4,
 "nbformat_minor": 0
}
